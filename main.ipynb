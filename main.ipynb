{
 "cells": [
  {
   "cell_type": "code",
   "execution_count": 1,
   "metadata": {},
   "outputs": [],
   "source": [
    "import os\n",
    "import pandas as pd\n",
    "from sklearn.model_selection import train_test_split\n",
    "from sklearn.feature_extraction.text import TfidfVectorizer\n",
    "from sklearn.linear_model import LogisticRegression\n",
    "from sklearn.metrics import accuracy_score\n"
   ]
  },
  {
   "cell_type": "code",
   "execution_count": 3,
   "metadata": {},
   "outputs": [
    {
     "name": "stdout",
     "output_type": "stream",
     "text": [
      "Authors: ['AbuAlAtahiya', 'AbuAlFadlAldarimi', 'AbuFirasAlHamdani', 'AbuNuwas', 'AliAlTuhami', 'AliIbnAlJahm', 'AlMutanabbi', 'IbnAlFarid', 'UlayyaBintAlMahdi']\n"
     ]
    }
   ],
   "source": [
    "def load_data(dataset_path):\n",
    "    data = []\n",
    "    labels = []\n",
    "    authors = []  # List to store author names\n",
    "    for author in os.listdir(dataset_path):\n",
    "        author_folder = os.path.join(dataset_path, author)\n",
    "        if os.path.isdir(author_folder):\n",
    "            authors.append(author)  # Add author to the list\n",
    "            for poem in os.listdir(author_folder):\n",
    "                poem_path = os.path.join(author_folder, poem)\n",
    "                if poem_path.endswith('.txt'):\n",
    "                    with open(poem_path, 'r', encoding='utf-8') as file:\n",
    "                        text = file.read()\n",
    "                        data.append(text)\n",
    "                        labels.append(author)\n",
    "    return data, labels, authors\n",
    "\n",
    "dataset_path = 'dataset'\n",
    "data, labels, authors = load_data(dataset_path)\n",
    "\n",
    "\n",
    "# retrive/print the names of the authors\n",
    "print(\"Authors:\", authors)\n"
   ]
  }
 ],
 "metadata": {
  "kernelspec": {
   "display_name": "Python 3",
   "language": "python",
   "name": "python3"
  },
  "language_info": {
   "codemirror_mode": {
    "name": "ipython",
    "version": 3
   },
   "file_extension": ".py",
   "mimetype": "text/x-python",
   "name": "python",
   "nbconvert_exporter": "python",
   "pygments_lexer": "ipython3",
   "version": "3.11.4"
  }
 },
 "nbformat": 4,
 "nbformat_minor": 2
}
